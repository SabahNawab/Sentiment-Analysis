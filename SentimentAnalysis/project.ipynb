{
 "cells": [
  {
   "cell_type": "markdown",
   "id": "a59050a3",
   "metadata": {},
   "source": [
    "IMAGE\n"
   ]
  },
  {
   "cell_type": "code",
   "execution_count": 1,
   "id": "d8308fdb",
   "metadata": {},
   "outputs": [
    {
     "name": "stderr",
     "output_type": "stream",
     "text": [
      "C:\\Users\\NAWAB-PC\\AppData\\Local\\Temp\\ipykernel_12112\\3773849246.py:18: DeprecationWarning: Importing display from IPython.core.display is deprecated since IPython 7.14, please import from IPython display\n",
      "  from IPython.core.display import HTML, display\n"
     ]
    }
   ],
   "source": [
    "import pandas as pd\n",
    "import numpy as np\n",
    "from sklearn.feature_extraction.text import CountVectorizer\n",
    "from sklearn.feature_extraction.text import TfidfVectorizer\n",
    "from sklearn.feature_extraction.text import HashingVectorizer\n",
    "from sklearn.model_selection import train_test_split\n",
    "from sklearn.preprocessing import LabelEncoder\n",
    "from sklearn.ensemble import RandomForestClassifier\n",
    "from sklearn.metrics import accuracy_score\n",
    "from sklearn.neighbors import KNeighborsClassifier\n",
    "from sklearn.tree import DecisionTreeClassifier\n",
    "from sklearn.svm import SVC\n",
    "from sklearn.naive_bayes import GaussianNB\n",
    "from sklearn.ensemble import AdaBoostClassifier\n",
    "from sklearn.metrics import f1_score,classification_report\n",
    "from sklearn.ensemble import ExtraTreesClassifier\n",
    "import os\n",
    "from IPython.core.display import HTML, display\n",
    "from sklearn.model_selection import cross_val_score\n",
    "from sklearn.datasets import make_blobs\n",
    "import matplotlib.pyplot as plt\n",
    "%matplotlib inline\n",
    "from skimage import color\n",
    "from skimage.io import imread, imshow\n",
    "from skimage.transform import resize\n",
    "from PIL import ImageFile\n",
    "ImageFile.LOAD_TRUNCATED_IMAGES = True\n",
    "from nltk.corpus import stopwords"
   ]
  },
  {
   "cell_type": "code",
   "execution_count": 2,
   "id": "af7f160e",
   "metadata": {},
   "outputs": [
    {
     "data": {
      "text/plain": [
       "6992"
      ]
     },
     "execution_count": 2,
     "metadata": {},
     "output_type": "execute_result"
    }
   ],
   "source": [
    "from os import listdir\n",
    "\n",
    "images = listdir(r\"C:\\Users\\NAWAB-PC\\Downloads\\final project\\images\")\n",
    "\n",
    "len(images)"
   ]
  },
  {
   "cell_type": "code",
   "execution_count": null,
   "id": "6496a493",
   "metadata": {},
   "outputs": [],
   "source": [
    "#later\n",
    "# number=1\n",
    "#     path=f\"image_{number}\"\n",
    "#     number=+1\n",
    "#     print(number)\n",
    "#     try:\n",
    "#         image1 = imread(r\"C:\\Users\\NAWAB-PC\\Downloads\\final project\\images\\\\\"+ path + r\".jpg\",as_gray=True)\n",
    "#         resized_img = resize(image1, (10,10))\n",
    "#         pic_dict[path]=resized_img\n",
    "#     except FileNotFoundError:\n",
    "#         image1 = imread(r\"C:\\Users\\NAWAB-PC\\Downloads\\final project\\images\\\\\"+ path + r\".jpeg\",as_gray=True)\n",
    "#         resized_img = resize(image1, (10,10))\n",
    "#         pic_dict[path]=resized_img\n",
    "#     if number==5:\n",
    "#         break\n",
    "# imshow(image1);\n",
    "import pytesseract\n",
    "pytesseract.pytesseract.tesseract_cmd = r\"C:\\Program Files\\Tesseract-OCR\\tesseract\"\n",
    "try:\n",
    "    text=pytesseract.image_to_string(r\"C:\\Users\\NAWAB-PC\\Downloads\\final project\\images\\\\\"+ path + r\".jpg\")\n",
    "    \n",
    "except :\n",
    "     text=pytesseract.image_to_string(r\"C:\\Users\\NAWAB-PC\\Downloads\\final project\\images\\\\\"+ path + r\".jpeg\")"
   ]
  },
  {
   "cell_type": "code",
   "execution_count": 3,
   "id": "e733ac39",
   "metadata": {},
   "outputs": [],
   "source": [
    "import re\n",
    "def sorting(string):\n",
    "    return list(map(int, re.findall(r'\\d+', string)))[0]\n",
    "images.sort(key = sorting)"
   ]
  },
  {
   "cell_type": "code",
   "execution_count": null,
   "id": "7c0b28dc",
   "metadata": {},
   "outputs": [],
   "source": [
    "from tqdm.notebook import tqdm #progress bar\n",
    "pic_dict={}\n",
    "for i in tqdm(images):\n",
    "    img=imread(r\"C:\\Users\\NAWAB-PC\\Downloads\\final project\\images\\\\\" + i, as_gray=True)\n",
    "    resized_img = resize(img, (256,128))\n",
    "    pic_dict[i]=resized_img"
   ]
  },
  {
   "cell_type": "code",
   "execution_count": 6,
   "id": "9d06c5cb",
   "metadata": {},
   "outputs": [],
   "source": [
    "import pickle\n",
    "o=open(\"project.pkl\",\"wb\")\n",
    "pickle.dump(pic_dict,o)\n",
    "o.close()"
   ]
  },
  {
   "cell_type": "code",
   "execution_count": 2,
   "id": "86b73e4a",
   "metadata": {},
   "outputs": [],
   "source": [
    "import pickle\n",
    "o=open(\"project.pkl\",\"rb\")\n",
    "data=pickle.load(o)\n",
    "o.close()"
   ]
  },
  {
   "cell_type": "code",
   "execution_count": 298,
   "id": "0b1cf937",
   "metadata": {},
   "outputs": [
    {
     "data": {
      "text/plain": [
       "6992"
      ]
     },
     "execution_count": 298,
     "metadata": {},
     "output_type": "execute_result"
    }
   ],
   "source": [
    "len(data)"
   ]
  },
  {
   "cell_type": "code",
   "execution_count": 265,
   "id": "ae4a68eb",
   "metadata": {},
   "outputs": [],
   "source": [
    "from skimage.feature import hog\n",
    "from sklearn.feature_extraction import image\n",
    "patch_f={}\n",
    "for i in data.keys():\n",
    "#     fd, hog_image = hog(data[i], orientations=9, pixels_per_cell=(8, 8),\n",
    "#                 cells_per_block=(2, 2), visualize=True, multichannel=True)\n",
    "    patches = image.extract_patches_2d(data[i], (2, 2))\n",
    "    patch_f[i]=patches"
   ]
  },
  {
   "cell_type": "code",
   "execution_count": 3,
   "id": "88f73123",
   "metadata": {},
   "outputs": [],
   "source": [
    "from skimage import filters\n",
    "from skimage import feature\n",
    "from sklearn.preprocessing import MinMaxScaler\n",
    "scaling=MinMaxScaler()\n",
    "canny_dict={}\n",
    "for i in data.keys():\n",
    "    scale=scaling.fit_transform(data[i])\n",
    "    can = feature.canny(scale)\n",
    "    canny_dict[i]=can.ravel()"
   ]
  },
  {
   "cell_type": "code",
   "execution_count": 4,
   "id": "bc840195",
   "metadata": {},
   "outputs": [],
   "source": [
    "import imageio\n",
    "import imgaug as aug\n",
    "import imgaug.augmenters as augmenters\n",
    "canny_features={}\n",
    "canny_features1={}\n",
    "scaling=MinMaxScaler()\n",
    "for i in data.keys():\n",
    "    \n",
    "    rotate_1=augmenters.Affine(rotate=(-40,25))\n",
    "    scale=scaling.fit_transform(data[i])\n",
    "    input_rotate_1 = rotate_1.augment_image(scale)\n",
    "    \n",
    "    canny_f=feature.canny(input_rotate_1)\n",
    "    canny_features[i]=canny_f.ravel()\n",
    "    #next\n",
    "    rotate_2=augmenters.Affine(rotate=(55,25))\n",
    "    scale=scaling.fit_transform(data[i])\n",
    "    input_rotate_2 = rotate_2.augment_image(scale)\n",
    "    \n",
    "    canny_f=feature.canny(input_rotate_2)\n",
    "    canny_features1[i]=canny_f.ravel()\n",
    "    "
   ]
  },
  {
   "cell_type": "code",
   "execution_count": 5,
   "id": "42adffe0",
   "metadata": {},
   "outputs": [
    {
     "data": {
      "text/plain": [
       "6992"
      ]
     },
     "execution_count": 5,
     "metadata": {},
     "output_type": "execute_result"
    }
   ],
   "source": [
    "len(canny_dict.keys())"
   ]
  },
  {
   "cell_type": "code",
   "execution_count": 69,
   "id": "afbbdd0d",
   "metadata": {},
   "outputs": [],
   "source": [
    "filename='minmaxscaler.pkl'\n",
    "pickle.dump(scaling, open(filename, 'wb'))"
   ]
  },
  {
   "cell_type": "code",
   "execution_count": 6,
   "id": "e64a92b2",
   "metadata": {},
   "outputs": [],
   "source": [
    "original_features=pd.DataFrame(canny_dict)\n",
    "df1=pd.DataFrame(canny_features)\n"
   ]
  },
  {
   "cell_type": "code",
   "execution_count": 7,
   "id": "034c917a",
   "metadata": {},
   "outputs": [],
   "source": [
    "df1=df1.T\n",
    "\n",
    "original_features=original_features.T"
   ]
  },
  {
   "cell_type": "code",
   "execution_count": 8,
   "id": "ab6de3b3",
   "metadata": {},
   "outputs": [],
   "source": [
    "df3=pd.DataFrame(canny_features1)"
   ]
  },
  {
   "cell_type": "code",
   "execution_count": 9,
   "id": "752a6315",
   "metadata": {},
   "outputs": [],
   "source": [
    "df3=df3.T"
   ]
  },
  {
   "cell_type": "code",
   "execution_count": 10,
   "id": "aa76134f",
   "metadata": {},
   "outputs": [],
   "source": [
    "original_features=original_features.drop(['image_120.jpg', 'image_4800.jpg','image_6782.jpg','image_6785.jpg','image_6787.jpg'])"
   ]
  },
  {
   "cell_type": "code",
   "execution_count": 11,
   "id": "f540d2b8",
   "metadata": {},
   "outputs": [],
   "source": [
    "df1=df1.drop(['image_120.jpg', 'image_4800.jpg','image_6782.jpg','image_6785.jpg','image_6787.jpg'])"
   ]
  },
  {
   "cell_type": "code",
   "execution_count": 12,
   "id": "adbcc65b",
   "metadata": {},
   "outputs": [],
   "source": [
    "df3=df3.drop(['image_120.jpg', 'image_4800.jpg','image_6782.jpg','image_6785.jpg','image_6787.jpg'])"
   ]
  },
  {
   "cell_type": "code",
   "execution_count": 13,
   "id": "96a1bfc2",
   "metadata": {},
   "outputs": [],
   "source": [
    "main_data=pd.read_csv(r\"C:\\Users\\NAWAB-PC\\Downloads\\final project\\labels.csv\")\n",
    "del main_data['Unnamed: 0']\n",
    "main_data=main_data[main_data['text_corrected'].notnull()]\n",
    "sentiments=main_data['overall_sentiment']\n",
    "le = LabelEncoder()\n",
    "y = le.fit_transform(sentiments)"
   ]
  },
  {
   "cell_type": "code",
   "execution_count": 14,
   "id": "726b42b4",
   "metadata": {},
   "outputs": [],
   "source": [
    "#verypositive=4\n",
    "#positive=2\n",
    "#neutral=1\n",
    "#negative=0\n",
    "#verynegative=3\n",
    "df1['sentiment']=y\n",
    "df3['sentiment']=y\n",
    "original_features['sentiment']=y\n"
   ]
  },
  {
   "cell_type": "code",
   "execution_count": 15,
   "id": "ceb5cc1d",
   "metadata": {},
   "outputs": [],
   "source": [
    "lst=[]\n",
    "for i in df1['sentiment']:\n",
    "    \n",
    "    if i==3:\n",
    "        i=0\n",
    "        lst.append(i)\n",
    "    elif i==4:\n",
    "        i=2\n",
    "        lst.append(i)\n",
    "    else:\n",
    "        lst.append(i)"
   ]
  },
  {
   "cell_type": "code",
   "execution_count": 16,
   "id": "2e9c6763",
   "metadata": {},
   "outputs": [],
   "source": [
    "lst=[]\n",
    "for i in df3['sentiment']:\n",
    "    \n",
    "    if i==3:\n",
    "        i=0\n",
    "        lst.append(i)\n",
    "    elif i==4:\n",
    "        i=2\n",
    "        lst.append(i)\n",
    "    else:\n",
    "        lst.append(i)"
   ]
  },
  {
   "cell_type": "code",
   "execution_count": 17,
   "id": "e2f22da0",
   "metadata": {},
   "outputs": [],
   "source": [
    "lst=[]\n",
    "for i in original_features['sentiment']:\n",
    "    \n",
    "    if i==3:\n",
    "        i=0\n",
    "        lst.append(i)\n",
    "    elif i==4:\n",
    "        i=2\n",
    "        lst.append(i)\n",
    "    else:\n",
    "        lst.append(i)"
   ]
  },
  {
   "cell_type": "code",
   "execution_count": 18,
   "id": "b87fc3f4",
   "metadata": {},
   "outputs": [],
   "source": [
    "df1['sentiment']=lst\n",
    "df3['sentiment']=lst\n",
    "original_features['sentiment']=lst"
   ]
  },
  {
   "cell_type": "code",
   "execution_count": 19,
   "id": "3c358ffb",
   "metadata": {},
   "outputs": [],
   "source": [
    "negative_=df1.groupby('sentiment').get_group(0)\n"
   ]
  },
  {
   "cell_type": "code",
   "execution_count": 20,
   "id": "3d12b12c",
   "metadata": {},
   "outputs": [
    {
     "data": {
      "text/html": [
       "<div>\n",
       "<style scoped>\n",
       "    .dataframe tbody tr th:only-of-type {\n",
       "        vertical-align: middle;\n",
       "    }\n",
       "\n",
       "    .dataframe tbody tr th {\n",
       "        vertical-align: top;\n",
       "    }\n",
       "\n",
       "    .dataframe thead th {\n",
       "        text-align: right;\n",
       "    }\n",
       "</style>\n",
       "<table border=\"1\" class=\"dataframe\">\n",
       "  <thead>\n",
       "    <tr style=\"text-align: right;\">\n",
       "      <th></th>\n",
       "      <th>0</th>\n",
       "      <th>1</th>\n",
       "      <th>2</th>\n",
       "      <th>3</th>\n",
       "      <th>4</th>\n",
       "      <th>5</th>\n",
       "      <th>6</th>\n",
       "      <th>7</th>\n",
       "      <th>8</th>\n",
       "      <th>9</th>\n",
       "      <th>...</th>\n",
       "      <th>32759</th>\n",
       "      <th>32760</th>\n",
       "      <th>32761</th>\n",
       "      <th>32762</th>\n",
       "      <th>32763</th>\n",
       "      <th>32764</th>\n",
       "      <th>32765</th>\n",
       "      <th>32766</th>\n",
       "      <th>32767</th>\n",
       "      <th>sentiment</th>\n",
       "    </tr>\n",
       "  </thead>\n",
       "  <tbody>\n",
       "    <tr>\n",
       "      <th>image_6.jpg</th>\n",
       "      <td>False</td>\n",
       "      <td>False</td>\n",
       "      <td>False</td>\n",
       "      <td>False</td>\n",
       "      <td>False</td>\n",
       "      <td>False</td>\n",
       "      <td>False</td>\n",
       "      <td>False</td>\n",
       "      <td>False</td>\n",
       "      <td>False</td>\n",
       "      <td>...</td>\n",
       "      <td>False</td>\n",
       "      <td>False</td>\n",
       "      <td>False</td>\n",
       "      <td>False</td>\n",
       "      <td>False</td>\n",
       "      <td>False</td>\n",
       "      <td>False</td>\n",
       "      <td>False</td>\n",
       "      <td>False</td>\n",
       "      <td>0</td>\n",
       "    </tr>\n",
       "    <tr>\n",
       "      <th>image_7.png</th>\n",
       "      <td>False</td>\n",
       "      <td>False</td>\n",
       "      <td>False</td>\n",
       "      <td>False</td>\n",
       "      <td>False</td>\n",
       "      <td>False</td>\n",
       "      <td>False</td>\n",
       "      <td>False</td>\n",
       "      <td>False</td>\n",
       "      <td>False</td>\n",
       "      <td>...</td>\n",
       "      <td>False</td>\n",
       "      <td>False</td>\n",
       "      <td>False</td>\n",
       "      <td>False</td>\n",
       "      <td>False</td>\n",
       "      <td>False</td>\n",
       "      <td>False</td>\n",
       "      <td>False</td>\n",
       "      <td>False</td>\n",
       "      <td>0</td>\n",
       "    </tr>\n",
       "    <tr>\n",
       "      <th>image_11.jpg</th>\n",
       "      <td>False</td>\n",
       "      <td>False</td>\n",
       "      <td>False</td>\n",
       "      <td>False</td>\n",
       "      <td>False</td>\n",
       "      <td>False</td>\n",
       "      <td>False</td>\n",
       "      <td>False</td>\n",
       "      <td>False</td>\n",
       "      <td>False</td>\n",
       "      <td>...</td>\n",
       "      <td>False</td>\n",
       "      <td>False</td>\n",
       "      <td>False</td>\n",
       "      <td>False</td>\n",
       "      <td>False</td>\n",
       "      <td>False</td>\n",
       "      <td>False</td>\n",
       "      <td>False</td>\n",
       "      <td>False</td>\n",
       "      <td>0</td>\n",
       "    </tr>\n",
       "    <tr>\n",
       "      <th>image_15.jpg</th>\n",
       "      <td>False</td>\n",
       "      <td>False</td>\n",
       "      <td>False</td>\n",
       "      <td>False</td>\n",
       "      <td>False</td>\n",
       "      <td>False</td>\n",
       "      <td>False</td>\n",
       "      <td>False</td>\n",
       "      <td>False</td>\n",
       "      <td>False</td>\n",
       "      <td>...</td>\n",
       "      <td>False</td>\n",
       "      <td>False</td>\n",
       "      <td>False</td>\n",
       "      <td>False</td>\n",
       "      <td>False</td>\n",
       "      <td>False</td>\n",
       "      <td>False</td>\n",
       "      <td>False</td>\n",
       "      <td>False</td>\n",
       "      <td>0</td>\n",
       "    </tr>\n",
       "    <tr>\n",
       "      <th>image_50.jpg</th>\n",
       "      <td>False</td>\n",
       "      <td>False</td>\n",
       "      <td>False</td>\n",
       "      <td>False</td>\n",
       "      <td>False</td>\n",
       "      <td>False</td>\n",
       "      <td>False</td>\n",
       "      <td>False</td>\n",
       "      <td>False</td>\n",
       "      <td>False</td>\n",
       "      <td>...</td>\n",
       "      <td>False</td>\n",
       "      <td>False</td>\n",
       "      <td>False</td>\n",
       "      <td>False</td>\n",
       "      <td>False</td>\n",
       "      <td>False</td>\n",
       "      <td>False</td>\n",
       "      <td>False</td>\n",
       "      <td>False</td>\n",
       "      <td>0</td>\n",
       "    </tr>\n",
       "    <tr>\n",
       "      <th>...</th>\n",
       "      <td>...</td>\n",
       "      <td>...</td>\n",
       "      <td>...</td>\n",
       "      <td>...</td>\n",
       "      <td>...</td>\n",
       "      <td>...</td>\n",
       "      <td>...</td>\n",
       "      <td>...</td>\n",
       "      <td>...</td>\n",
       "      <td>...</td>\n",
       "      <td>...</td>\n",
       "      <td>...</td>\n",
       "      <td>...</td>\n",
       "      <td>...</td>\n",
       "      <td>...</td>\n",
       "      <td>...</td>\n",
       "      <td>...</td>\n",
       "      <td>...</td>\n",
       "      <td>...</td>\n",
       "      <td>...</td>\n",
       "      <td>...</td>\n",
       "    </tr>\n",
       "    <tr>\n",
       "      <th>image_6961.jpg</th>\n",
       "      <td>False</td>\n",
       "      <td>False</td>\n",
       "      <td>False</td>\n",
       "      <td>False</td>\n",
       "      <td>False</td>\n",
       "      <td>False</td>\n",
       "      <td>False</td>\n",
       "      <td>False</td>\n",
       "      <td>False</td>\n",
       "      <td>False</td>\n",
       "      <td>...</td>\n",
       "      <td>False</td>\n",
       "      <td>False</td>\n",
       "      <td>False</td>\n",
       "      <td>False</td>\n",
       "      <td>False</td>\n",
       "      <td>False</td>\n",
       "      <td>False</td>\n",
       "      <td>False</td>\n",
       "      <td>False</td>\n",
       "      <td>0</td>\n",
       "    </tr>\n",
       "    <tr>\n",
       "      <th>image_6962.jpg</th>\n",
       "      <td>False</td>\n",
       "      <td>False</td>\n",
       "      <td>False</td>\n",
       "      <td>False</td>\n",
       "      <td>False</td>\n",
       "      <td>False</td>\n",
       "      <td>False</td>\n",
       "      <td>False</td>\n",
       "      <td>False</td>\n",
       "      <td>False</td>\n",
       "      <td>...</td>\n",
       "      <td>False</td>\n",
       "      <td>False</td>\n",
       "      <td>False</td>\n",
       "      <td>False</td>\n",
       "      <td>False</td>\n",
       "      <td>False</td>\n",
       "      <td>False</td>\n",
       "      <td>False</td>\n",
       "      <td>False</td>\n",
       "      <td>0</td>\n",
       "    </tr>\n",
       "    <tr>\n",
       "      <th>image_6966.png</th>\n",
       "      <td>False</td>\n",
       "      <td>False</td>\n",
       "      <td>False</td>\n",
       "      <td>False</td>\n",
       "      <td>False</td>\n",
       "      <td>False</td>\n",
       "      <td>False</td>\n",
       "      <td>False</td>\n",
       "      <td>False</td>\n",
       "      <td>False</td>\n",
       "      <td>...</td>\n",
       "      <td>False</td>\n",
       "      <td>False</td>\n",
       "      <td>False</td>\n",
       "      <td>False</td>\n",
       "      <td>False</td>\n",
       "      <td>False</td>\n",
       "      <td>False</td>\n",
       "      <td>False</td>\n",
       "      <td>False</td>\n",
       "      <td>0</td>\n",
       "    </tr>\n",
       "    <tr>\n",
       "      <th>image_6972.jpg</th>\n",
       "      <td>False</td>\n",
       "      <td>False</td>\n",
       "      <td>False</td>\n",
       "      <td>False</td>\n",
       "      <td>False</td>\n",
       "      <td>False</td>\n",
       "      <td>False</td>\n",
       "      <td>False</td>\n",
       "      <td>False</td>\n",
       "      <td>False</td>\n",
       "      <td>...</td>\n",
       "      <td>False</td>\n",
       "      <td>False</td>\n",
       "      <td>False</td>\n",
       "      <td>False</td>\n",
       "      <td>False</td>\n",
       "      <td>False</td>\n",
       "      <td>False</td>\n",
       "      <td>False</td>\n",
       "      <td>False</td>\n",
       "      <td>0</td>\n",
       "    </tr>\n",
       "    <tr>\n",
       "      <th>image_6983.jpg</th>\n",
       "      <td>False</td>\n",
       "      <td>False</td>\n",
       "      <td>False</td>\n",
       "      <td>False</td>\n",
       "      <td>False</td>\n",
       "      <td>False</td>\n",
       "      <td>False</td>\n",
       "      <td>False</td>\n",
       "      <td>False</td>\n",
       "      <td>False</td>\n",
       "      <td>...</td>\n",
       "      <td>False</td>\n",
       "      <td>False</td>\n",
       "      <td>False</td>\n",
       "      <td>False</td>\n",
       "      <td>False</td>\n",
       "      <td>False</td>\n",
       "      <td>False</td>\n",
       "      <td>False</td>\n",
       "      <td>False</td>\n",
       "      <td>0</td>\n",
       "    </tr>\n",
       "  </tbody>\n",
       "</table>\n",
       "<p>631 rows × 32769 columns</p>\n",
       "</div>"
      ],
      "text/plain": [
       "                    0      1      2      3      4      5      6      7      8  \\\n",
       "image_6.jpg     False  False  False  False  False  False  False  False  False   \n",
       "image_7.png     False  False  False  False  False  False  False  False  False   \n",
       "image_11.jpg    False  False  False  False  False  False  False  False  False   \n",
       "image_15.jpg    False  False  False  False  False  False  False  False  False   \n",
       "image_50.jpg    False  False  False  False  False  False  False  False  False   \n",
       "...               ...    ...    ...    ...    ...    ...    ...    ...    ...   \n",
       "image_6961.jpg  False  False  False  False  False  False  False  False  False   \n",
       "image_6962.jpg  False  False  False  False  False  False  False  False  False   \n",
       "image_6966.png  False  False  False  False  False  False  False  False  False   \n",
       "image_6972.jpg  False  False  False  False  False  False  False  False  False   \n",
       "image_6983.jpg  False  False  False  False  False  False  False  False  False   \n",
       "\n",
       "                    9  ...  32759  32760  32761  32762  32763  32764  32765  \\\n",
       "image_6.jpg     False  ...  False  False  False  False  False  False  False   \n",
       "image_7.png     False  ...  False  False  False  False  False  False  False   \n",
       "image_11.jpg    False  ...  False  False  False  False  False  False  False   \n",
       "image_15.jpg    False  ...  False  False  False  False  False  False  False   \n",
       "image_50.jpg    False  ...  False  False  False  False  False  False  False   \n",
       "...               ...  ...    ...    ...    ...    ...    ...    ...    ...   \n",
       "image_6961.jpg  False  ...  False  False  False  False  False  False  False   \n",
       "image_6962.jpg  False  ...  False  False  False  False  False  False  False   \n",
       "image_6966.png  False  ...  False  False  False  False  False  False  False   \n",
       "image_6972.jpg  False  ...  False  False  False  False  False  False  False   \n",
       "image_6983.jpg  False  ...  False  False  False  False  False  False  False   \n",
       "\n",
       "                32766  32767  sentiment  \n",
       "image_6.jpg     False  False          0  \n",
       "image_7.png     False  False          0  \n",
       "image_11.jpg    False  False          0  \n",
       "image_15.jpg    False  False          0  \n",
       "image_50.jpg    False  False          0  \n",
       "...               ...    ...        ...  \n",
       "image_6961.jpg  False  False          0  \n",
       "image_6962.jpg  False  False          0  \n",
       "image_6966.png  False  False          0  \n",
       "image_6972.jpg  False  False          0  \n",
       "image_6983.jpg  False  False          0  \n",
       "\n",
       "[631 rows x 32769 columns]"
      ]
     },
     "execution_count": 20,
     "metadata": {},
     "output_type": "execute_result"
    }
   ],
   "source": [
    "df1.groupby('sentiment').get_group(0)"
   ]
  },
  {
   "cell_type": "code",
   "execution_count": 21,
   "id": "3a75b900",
   "metadata": {},
   "outputs": [
    {
     "data": {
      "text/plain": [
       "631"
      ]
     },
     "execution_count": 21,
     "metadata": {},
     "output_type": "execute_result"
    }
   ],
   "source": [
    "len(negative_)"
   ]
  },
  {
   "cell_type": "code",
   "execution_count": 22,
   "id": "2d6c15ee",
   "metadata": {},
   "outputs": [],
   "source": [
    "negative_rot2=df1[(df3['sentiment']==0)]\n"
   ]
  },
  {
   "cell_type": "code",
   "execution_count": 23,
   "id": "e747f80a",
   "metadata": {},
   "outputs": [],
   "source": [
    "concatlist=[negative_,negative_rot2,original_features]\n",
    "finalconcat=pd.concat(concatlist)"
   ]
  },
  {
   "cell_type": "code",
   "execution_count": 24,
   "id": "5c52e648",
   "metadata": {},
   "outputs": [],
   "source": [
    "from sklearn.utils import shuffle\n",
    "finalconcat = shuffle(finalconcat,random_state=100)"
   ]
  },
  {
   "cell_type": "code",
   "execution_count": 25,
   "id": "f711f34f",
   "metadata": {},
   "outputs": [],
   "source": [
    "X=finalconcat.drop(['sentiment'],axis=1)\n",
    "\n",
    "y=(finalconcat['sentiment'])"
   ]
  },
  {
   "cell_type": "code",
   "execution_count": 26,
   "id": "fb2f8efe",
   "metadata": {},
   "outputs": [],
   "source": [
    "X_train, X_test, y_train, y_test = train_test_split(X, y, test_size=0.3,random_state=44)"
   ]
  },
  {
   "cell_type": "markdown",
   "id": "5e88d52b",
   "metadata": {},
   "source": [
    "MODELS"
   ]
  },
  {
   "cell_type": "code",
   "execution_count": 27,
   "id": "22a16f4b",
   "metadata": {},
   "outputs": [
    {
     "name": "stderr",
     "output_type": "stream",
     "text": [
      "C:\\Users\\NAWAB-PC\\anaconda3\\lib\\site-packages\\sklearn\\linear_model\\_sag.py:352: ConvergenceWarning: The max_iter was reached which means the coef_ did not converge\n",
      "  warnings.warn(\n"
     ]
    },
    {
     "name": "stdout",
     "output_type": "stream",
     "text": [
      "Accuracy Score : 0.5761616161616162\n",
      "F1 Score:  0.5499792765310533\n",
      "Confusion Matrix : \n",
      "[[374  61 130]\n",
      " [ 33 160 456]\n",
      " [ 55 314 892]]\n",
      "              precision    recall  f1-score   support\n",
      "\n",
      "           0       0.66      0.81      0.73       462\n",
      "           1       0.25      0.30      0.27       535\n",
      "           2       0.71      0.60      0.65      1478\n",
      "\n",
      "    accuracy                           0.58      2475\n",
      "   macro avg       0.54      0.57      0.55      2475\n",
      "weighted avg       0.60      0.58      0.58      2475\n",
      "\n"
     ]
    }
   ],
   "source": [
    "from sklearn.linear_model import LogisticRegression\n",
    "from sklearn.metrics import confusion_matrix\n",
    "from sklearn.metrics import accuracy_score,recall_score,precision_score,f1_score\n",
    "exp = LogisticRegression(solver='saga',C=33.0,fit_intercept=True,intercept_scaling=1,tol=0.00001,random_state=42,max_iter=34).fit(X_train,y_train)\n",
    "y_pred = exp.predict(X_test)\n",
    "\n",
    "print('Accuracy Score : ' + str(accuracy_score(y_test,y_pred)))\n",
    "print(\"F1 Score: \",f1_score(y_test, y_pred,average='macro'))\n",
    "print('Confusion Matrix : \\n' + str(confusion_matrix(y_test,y_pred)))\n",
    "print(classification_report(y_pred,y_test))"
   ]
  },
  {
   "cell_type": "code",
   "execution_count": 137,
   "id": "730466d7",
   "metadata": {},
   "outputs": [],
   "source": [
    "import pickle\n",
    "modelpkl4 = \"logistic.pkl\"  \n",
    "with open(modelpkl4, 'wb') as file:  \n",
    "    pickle.dump(exp, file)"
   ]
  },
  {
   "cell_type": "code",
   "execution_count": 28,
   "id": "a5665226",
   "metadata": {},
   "outputs": [
    {
     "name": "stdout",
     "output_type": "stream",
     "text": [
      "F1 Score:  0.5320374156534541\n",
      "              precision    recall  f1-score   support\n",
      "\n",
      "           0       0.68      0.71      0.69       541\n",
      "           1       0.24      0.30      0.27       512\n",
      "           2       0.68      0.60      0.64      1422\n",
      "\n",
      "    accuracy                           0.56      2475\n",
      "   macro avg       0.53      0.54      0.53      2475\n",
      "weighted avg       0.59      0.56      0.57      2475\n",
      "\n"
     ]
    }
   ],
   "source": [
    "from sklearn.linear_model import SGDClassifier\n",
    "\n",
    "sgd = SGDClassifier(random_state=42, max_iter=1000, tol=1e-3,loss='log')\n",
    "sgd.fit(X_train, y_train)\n",
    "pred8=sgd.predict(X_test)\n",
    "print(\"F1 Score: \",f1_score(y_test, pred8,average='macro'))\n",
    "print(classification_report(pred8,y_test))"
   ]
  },
  {
   "cell_type": "code",
   "execution_count": 138,
   "id": "10a4942c",
   "metadata": {},
   "outputs": [],
   "source": [
    "import pickle\n",
    "modelpkl5 = \"sgdc.pkl\"  \n",
    "with open(modelpkl5, 'wb') as file:  \n",
    "    pickle.dump(sgd, file)"
   ]
  },
  {
   "cell_type": "code",
   "execution_count": 29,
   "id": "66a70fd2",
   "metadata": {},
   "outputs": [
    {
     "name": "stdout",
     "output_type": "stream",
     "text": [
      "Confusion Matrix : \n",
      "[[382  53 130]\n",
      " [ 55 156 438]\n",
      " [104 303 854]]\n"
     ]
    }
   ],
   "source": [
    "print('Confusion Matrix : \\n' + str(confusion_matrix(y_test,pred8)))"
   ]
  },
  {
   "cell_type": "code",
   "execution_count": 39,
   "id": "8f04dc20",
   "metadata": {},
   "outputs": [
    {
     "name": "stdout",
     "output_type": "stream",
     "text": [
      "              precision    recall  f1-score   support\n",
      "\n",
      "           0       0.65      0.69      0.67       537\n",
      "           1       0.23      0.31      0.27       480\n",
      "           2       0.70      0.60      0.65      1458\n",
      "\n",
      "    accuracy                           0.57      2475\n",
      "   macro avg       0.53      0.54      0.53      2475\n",
      "weighted avg       0.60      0.57      0.58      2475\n",
      "\n",
      "F1 Score:  0.5281750100497588\n",
      "Confusion Matrix : \n",
      "[[370  57 138]\n",
      " [ 59 150 440]\n",
      " [108 273 880]]\n"
     ]
    }
   ],
   "source": [
    "knn2=KNeighborsClassifier(n_neighbors=9,weights='distance',leaf_size=9,algorithm='brute')\n",
    "knn2.fit(X_train,y_train)\n",
    "y_pred_knn2=knn2.predict(X_test)\n",
    "accuracy_score(y_pred_knn2,y_test)\n",
    "print(classification_report(y_pred_knn2,y_test))\n",
    "print(\"F1 Score: \",f1_score(y_test, y_pred_knn2,average='macro'))\n",
    "print('Confusion Matrix : \\n' + str(confusion_matrix(y_test,y_pred_knn2)))"
   ]
  },
  {
   "cell_type": "code",
   "execution_count": 142,
   "id": "6895c202",
   "metadata": {},
   "outputs": [],
   "source": [
    "import pickle\n",
    "modelpkl6 = \"knn2.pkl\"  \n",
    "with open(modelpkl6, 'wb') as file:  \n",
    "    pickle.dump(knn2, file)"
   ]
  },
  {
   "cell_type": "code",
   "execution_count": 41,
   "id": "a36d5b4f",
   "metadata": {},
   "outputs": [
    {
     "name": "stdout",
     "output_type": "stream",
     "text": [
      "              precision    recall  f1-score   support\n",
      "\n",
      "           0       0.68      0.80      0.73       479\n",
      "           1       0.24      0.29      0.27       534\n",
      "           2       0.69      0.60      0.64      1462\n",
      "\n",
      "    accuracy                           0.57      2475\n",
      "   macro avg       0.54      0.56      0.55      2475\n",
      "weighted avg       0.59      0.57      0.58      2475\n",
      "\n",
      "F1 Score:  0.5468785509902978\n",
      "Confusion Matrix : \n",
      "[[382  52 131]\n",
      " [ 37 157 455]\n",
      " [ 60 325 876]]\n"
     ]
    }
   ],
   "source": [
    "from sklearn.ensemble import ExtraTreesClassifier\n",
    "clf5 = ExtraTreesClassifier(n_estimators=10, max_depth=None,min_samples_split=2, random_state=0)\n",
    "clf5.fit(X_train, y_train)\n",
    "\n",
    "clf_p=clf5.predict(X_test)\n",
    "accuracy_score(clf_p,y_test)\n",
    "print(classification_report(clf_p,y_test))\n",
    "print(\"F1 Score: \",f1_score(y_test, clf_p,average='macro'))\n",
    "print('Confusion Matrix : \\n' + str(confusion_matrix(y_test,clf_p)))"
   ]
  },
  {
   "cell_type": "code",
   "execution_count": 46,
   "id": "b35a0ed9",
   "metadata": {},
   "outputs": [],
   "source": [
    "import pickle\n",
    "modelpkl7 = \"ex.pkl\"  \n",
    "with open(modelpkl7, 'wb') as file:  \n",
    "    pickle.dump(clf5, file)"
   ]
  },
  {
   "cell_type": "code",
   "execution_count": null,
   "id": "5748fc58",
   "metadata": {},
   "outputs": [],
   "source": [
    "from sklearn.ensemble import VotingClassifier\n",
    "voting = VotingClassifier(\n",
    "estimators=[('ex',clf5),(\"sgd\",sgd),('lr',exp)],\n",
    "voting='hard')\n",
    "voting.fit(X_train,y_train)\n",
    "pred_final=voting.predict(X_test)\n",
    "print('Accuracy:', accuracy_score(y_test, pred_final))\n",
    "print(\"F1 Score: \",f1_score(y_test, pred_final,average='macro'))"
   ]
  },
  {
   "cell_type": "code",
   "execution_count": null,
   "id": "6607e13a",
   "metadata": {},
   "outputs": [],
   "source": [
    "from skimage.feature import hog\n",
    "# form skimage import feature\n",
    "fd_dict={}\n",
    "hog_dict={}\n",
    "hog_features={}\n",
    "for i in data.keys():\n",
    "    if(data[i].shape==(256, 128, 3) or data[i].shape==(256,128,4)):\n",
    "        fd, hog_image = hog(data[i], orientations=9, pixels_per_cell=(8, 8),\n",
    "                cells_per_block=(2, 2), visualize=True, multichannel=True)\n",
    "        \n",
    "        fd_dict[i]=fd\n",
    "        hog_dict[i]=hog_image\n",
    "        rotate_1=augmenters.Affine(rotate=(-50,20))\n",
    "        input_rotate_1 = rotate_1.augment_image(data[i])\n",
    "        images_list=[data[i], input_rotate_1]\n",
    "        hog_i=hog(input_rotate_1)\n",
    "        hog_features[i]=hog_i.flatten()\n",
    "    else:\n",
    "        fd, hog_image = hog(data[i], orientations=9, pixels_per_cell=(8, 8),\n",
    "                cells_per_block=(2, 2), visualize=True, multichannel=False)\n",
    "        fd_dict[i]=fd\n",
    "        hog_dict[i]=hog_image\n",
    "        rotate_1=augmenters.Affine(rotate=(-50,20))\n",
    "        input_rotate_1 = rotate_1.augment_image(data[i])\n",
    "        images_list=[data[i], input_rotate_1]\n",
    "        hog_i=hog(input_rotate_1)\n",
    "        hog_features[i]=hog_i.flatten()"
   ]
  },
  {
   "cell_type": "code",
   "execution_count": 23,
   "id": "a8023f4c",
   "metadata": {},
   "outputs": [
    {
     "data": {
      "text/html": [
       "<div>\n",
       "<style scoped>\n",
       "    .dataframe tbody tr th:only-of-type {\n",
       "        vertical-align: middle;\n",
       "    }\n",
       "\n",
       "    .dataframe tbody tr th {\n",
       "        vertical-align: top;\n",
       "    }\n",
       "\n",
       "    .dataframe thead th {\n",
       "        text-align: right;\n",
       "    }\n",
       "</style>\n",
       "<table border=\"1\" class=\"dataframe\">\n",
       "  <thead>\n",
       "    <tr style=\"text-align: right;\">\n",
       "      <th></th>\n",
       "      <th>image_name</th>\n",
       "      <th>text_ocr</th>\n",
       "      <th>text_corrected</th>\n",
       "      <th>overall_sentiment</th>\n",
       "    </tr>\n",
       "  </thead>\n",
       "  <tbody>\n",
       "    <tr>\n",
       "      <th>0</th>\n",
       "      <td>image_1.jpg</td>\n",
       "      <td>LOOK THERE MY FRIEND LIGHTYEAR NOW ALL SOHALIK...</td>\n",
       "      <td>LOOK THERE MY FRIEND LIGHTYEAR NOW ALL SOHALIK...</td>\n",
       "      <td>very_positive</td>\n",
       "    </tr>\n",
       "    <tr>\n",
       "      <th>1</th>\n",
       "      <td>image_2.jpeg</td>\n",
       "      <td>The best of #10 YearChallenge! Completed in le...</td>\n",
       "      <td>The best of #10 YearChallenge! Completed in le...</td>\n",
       "      <td>very_positive</td>\n",
       "    </tr>\n",
       "    <tr>\n",
       "      <th>2</th>\n",
       "      <td>image_3.JPG</td>\n",
       "      <td>Sam Thorne @Strippin ( Follow Follow Saw every...</td>\n",
       "      <td>Sam Thorne @Strippin ( Follow Follow Saw every...</td>\n",
       "      <td>positive</td>\n",
       "    </tr>\n",
       "    <tr>\n",
       "      <th>3</th>\n",
       "      <td>image_4.png</td>\n",
       "      <td>10 Year Challenge - Sweet Dee Edition</td>\n",
       "      <td>10 Year Challenge - Sweet Dee Edition</td>\n",
       "      <td>positive</td>\n",
       "    </tr>\n",
       "    <tr>\n",
       "      <th>4</th>\n",
       "      <td>image_5.png</td>\n",
       "      <td>10 YEAR CHALLENGE WITH NO FILTER 47 Hilarious ...</td>\n",
       "      <td>10 YEAR CHALLENGE WITH NO FILTER 47 Hilarious ...</td>\n",
       "      <td>neutral</td>\n",
       "    </tr>\n",
       "    <tr>\n",
       "      <th>...</th>\n",
       "      <td>...</td>\n",
       "      <td>...</td>\n",
       "      <td>...</td>\n",
       "      <td>...</td>\n",
       "    </tr>\n",
       "    <tr>\n",
       "      <th>6987</th>\n",
       "      <td>image_6988.jpg</td>\n",
       "      <td>Tuesday is Mardi Gras Wednesday is Valentine's...</td>\n",
       "      <td>Tuesday is Mardi Gras Wednesday is Valentine's...</td>\n",
       "      <td>neutral</td>\n",
       "    </tr>\n",
       "    <tr>\n",
       "      <th>6988</th>\n",
       "      <td>image_6989.jpg</td>\n",
       "      <td>MUST WATCH MOVIES OF 2017 ITI Chennai memes MA...</td>\n",
       "      <td>MUST WATCH MOVIES OF 2017 ITI Chennai memes MA...</td>\n",
       "      <td>neutral</td>\n",
       "    </tr>\n",
       "    <tr>\n",
       "      <th>6989</th>\n",
       "      <td>image_6990.png</td>\n",
       "      <td>LESS MORE TALKING PLANNING SODA JUNK FOOD COMP...</td>\n",
       "      <td>LESS MORE TALKING PLANNING SODA JUNK FOOD COMP...</td>\n",
       "      <td>positive</td>\n",
       "    </tr>\n",
       "    <tr>\n",
       "      <th>6990</th>\n",
       "      <td>image_6991.jpg</td>\n",
       "      <td>When I VERY have time is a fantasy No one has ...</td>\n",
       "      <td>When I have time is a fantasy. no one has time...</td>\n",
       "      <td>very_positive</td>\n",
       "    </tr>\n",
       "    <tr>\n",
       "      <th>6991</th>\n",
       "      <td>image_6992.jpg</td>\n",
       "      <td>The starting point for every good idea is \"Wha...</td>\n",
       "      <td>The starting point for every good idea is \"Wha...</td>\n",
       "      <td>positive</td>\n",
       "    </tr>\n",
       "  </tbody>\n",
       "</table>\n",
       "<p>6987 rows × 4 columns</p>\n",
       "</div>"
      ],
      "text/plain": [
       "          image_name                                           text_ocr  \\\n",
       "0        image_1.jpg  LOOK THERE MY FRIEND LIGHTYEAR NOW ALL SOHALIK...   \n",
       "1       image_2.jpeg  The best of #10 YearChallenge! Completed in le...   \n",
       "2        image_3.JPG  Sam Thorne @Strippin ( Follow Follow Saw every...   \n",
       "3        image_4.png              10 Year Challenge - Sweet Dee Edition   \n",
       "4        image_5.png  10 YEAR CHALLENGE WITH NO FILTER 47 Hilarious ...   \n",
       "...              ...                                                ...   \n",
       "6987  image_6988.jpg  Tuesday is Mardi Gras Wednesday is Valentine's...   \n",
       "6988  image_6989.jpg  MUST WATCH MOVIES OF 2017 ITI Chennai memes MA...   \n",
       "6989  image_6990.png  LESS MORE TALKING PLANNING SODA JUNK FOOD COMP...   \n",
       "6990  image_6991.jpg  When I VERY have time is a fantasy No one has ...   \n",
       "6991  image_6992.jpg  The starting point for every good idea is \"Wha...   \n",
       "\n",
       "                                         text_corrected overall_sentiment  \n",
       "0     LOOK THERE MY FRIEND LIGHTYEAR NOW ALL SOHALIK...     very_positive  \n",
       "1     The best of #10 YearChallenge! Completed in le...     very_positive  \n",
       "2     Sam Thorne @Strippin ( Follow Follow Saw every...          positive  \n",
       "3                 10 Year Challenge - Sweet Dee Edition          positive  \n",
       "4     10 YEAR CHALLENGE WITH NO FILTER 47 Hilarious ...           neutral  \n",
       "...                                                 ...               ...  \n",
       "6987  Tuesday is Mardi Gras Wednesday is Valentine's...           neutral  \n",
       "6988  MUST WATCH MOVIES OF 2017 ITI Chennai memes MA...           neutral  \n",
       "6989  LESS MORE TALKING PLANNING SODA JUNK FOOD COMP...          positive  \n",
       "6990  When I have time is a fantasy. no one has time...     very_positive  \n",
       "6991  The starting point for every good idea is \"Wha...          positive  \n",
       "\n",
       "[6987 rows x 4 columns]"
      ]
     },
     "execution_count": 23,
     "metadata": {},
     "output_type": "execute_result"
    }
   ],
   "source": [
    "main_data"
   ]
  },
  {
   "cell_type": "code",
   "execution_count": 24,
   "id": "ea0ed520",
   "metadata": {},
   "outputs": [],
   "source": [
    "import string\n",
    "import nltk\n",
    "from gensim.parsing.preprocessing import remove_stopwords\n",
    "import re\n",
    "from nltk.stem import PorterStemmer\n",
    "from nltk.tokenize import word_tokenize\n",
    "t2=[]\n",
    "PS = PorterStemmer()\n",
    "for i in main_data['text_corrected']:\n",
    "    sen=(i.lower())\n",
    "    sen=(re.sub(\"[^A-Za-z ]\",' ',sen))\n",
    "    sen=remove_stopwords(sen)\n",
    "    t2.append(sen)\n",
    "\n",
    "clean=[]\n",
    "for i in t2:\n",
    "    word_list=word_tokenize(i)\n",
    "    updated=[]\n",
    "    for j in word_list:\n",
    "        updated.append(PS.stem(j))\n",
    "    clean.append(\" \".join(updated))"
   ]
  },
  {
   "cell_type": "code",
   "execution_count": 42,
   "id": "fdf221ed",
   "metadata": {},
   "outputs": [],
   "source": [
    "import texthero\n",
    "main_data['cleaned']=texthero.clean(main_data['text_corrected'])"
   ]
  },
  {
   "cell_type": "code",
   "execution_count": 43,
   "id": "2f3df56e",
   "metadata": {},
   "outputs": [
    {
     "data": {
      "text/plain": [
       "0"
      ]
     },
     "execution_count": 43,
     "metadata": {},
     "output_type": "execute_result"
    }
   ],
   "source": [
    "main_data['text_corrected'].isnull().sum()"
   ]
  },
  {
   "cell_type": "code",
   "execution_count": 79,
   "id": "149ed46b",
   "metadata": {},
   "outputs": [
    {
     "data": {
      "text/plain": [
       "[119, 4799, 6781, 6784, 6786]"
      ]
     },
     "execution_count": 79,
     "metadata": {},
     "output_type": "execute_result"
    }
   ],
   "source": [
    "nan_idx=main_data[main_data['text_corrected'].isnull()].index.tolist()\n",
    "nan_idx\n"
   ]
  },
  {
   "cell_type": "code",
   "execution_count": 47,
   "id": "3affde15",
   "metadata": {},
   "outputs": [],
   "source": [
    "#3 labels\n",
    "lst=[]\n",
    "for i in main_data['overall_sentiment']:\n",
    "    \n",
    "    if i=='very_positive':\n",
    "        i='positive'\n",
    "        lst.append(i)\n",
    "    elif i=='very_negative':\n",
    "        i='negative'\n",
    "        lst.append(i)\n",
    "    else:\n",
    "        lst.append(i)"
   ]
  },
  {
   "cell_type": "code",
   "execution_count": 45,
   "id": "0d638c0c",
   "metadata": {},
   "outputs": [],
   "source": [
    "main_data['overall_sentiment']=lst"
   ]
  },
  {
   "cell_type": "code",
   "execution_count": 48,
   "id": "64495f77",
   "metadata": {},
   "outputs": [
    {
     "data": {
      "text/html": [
       "<div>\n",
       "<style scoped>\n",
       "    .dataframe tbody tr th:only-of-type {\n",
       "        vertical-align: middle;\n",
       "    }\n",
       "\n",
       "    .dataframe tbody tr th {\n",
       "        vertical-align: top;\n",
       "    }\n",
       "\n",
       "    .dataframe thead th {\n",
       "        text-align: right;\n",
       "    }\n",
       "</style>\n",
       "<table border=\"1\" class=\"dataframe\">\n",
       "  <thead>\n",
       "    <tr style=\"text-align: right;\">\n",
       "      <th></th>\n",
       "      <th>image_name</th>\n",
       "      <th>text_ocr</th>\n",
       "      <th>text_corrected</th>\n",
       "      <th>overall_sentiment</th>\n",
       "      <th>cleaned</th>\n",
       "    </tr>\n",
       "  </thead>\n",
       "  <tbody>\n",
       "    <tr>\n",
       "      <th>0</th>\n",
       "      <td>image_1.jpg</td>\n",
       "      <td>LOOK THERE MY FRIEND LIGHTYEAR NOW ALL SOHALIK...</td>\n",
       "      <td>LOOK THERE MY FRIEND LIGHTYEAR NOW ALL SOHALIK...</td>\n",
       "      <td>positive</td>\n",
       "      <td>look friend lightyear sohalikut trend play yea...</td>\n",
       "    </tr>\n",
       "    <tr>\n",
       "      <th>1</th>\n",
       "      <td>image_2.jpeg</td>\n",
       "      <td>The best of #10 YearChallenge! Completed in le...</td>\n",
       "      <td>The best of #10 YearChallenge! Completed in le...</td>\n",
       "      <td>positive</td>\n",
       "      <td>best yearchallenge completed less years kudus ...</td>\n",
       "    </tr>\n",
       "    <tr>\n",
       "      <th>2</th>\n",
       "      <td>image_3.JPG</td>\n",
       "      <td>Sam Thorne @Strippin ( Follow Follow Saw every...</td>\n",
       "      <td>Sam Thorne @Strippin ( Follow Follow Saw every...</td>\n",
       "      <td>positive</td>\n",
       "      <td>sam thorne strippin follow follow saw everyone...</td>\n",
       "    </tr>\n",
       "    <tr>\n",
       "      <th>3</th>\n",
       "      <td>image_4.png</td>\n",
       "      <td>10 Year Challenge - Sweet Dee Edition</td>\n",
       "      <td>10 Year Challenge - Sweet Dee Edition</td>\n",
       "      <td>positive</td>\n",
       "      <td>year challenge sweet dee edition</td>\n",
       "    </tr>\n",
       "    <tr>\n",
       "      <th>4</th>\n",
       "      <td>image_5.png</td>\n",
       "      <td>10 YEAR CHALLENGE WITH NO FILTER 47 Hilarious ...</td>\n",
       "      <td>10 YEAR CHALLENGE WITH NO FILTER 47 Hilarious ...</td>\n",
       "      <td>neutral</td>\n",
       "      <td>year challenge filter hilarious year challenge...</td>\n",
       "    </tr>\n",
       "    <tr>\n",
       "      <th>...</th>\n",
       "      <td>...</td>\n",
       "      <td>...</td>\n",
       "      <td>...</td>\n",
       "      <td>...</td>\n",
       "      <td>...</td>\n",
       "    </tr>\n",
       "    <tr>\n",
       "      <th>6987</th>\n",
       "      <td>image_6988.jpg</td>\n",
       "      <td>Tuesday is Mardi Gras Wednesday is Valentine's...</td>\n",
       "      <td>Tuesday is Mardi Gras Wednesday is Valentine's...</td>\n",
       "      <td>neutral</td>\n",
       "      <td>tuesday mardi gras wednesday valentine friday ...</td>\n",
       "    </tr>\n",
       "    <tr>\n",
       "      <th>6988</th>\n",
       "      <td>image_6989.jpg</td>\n",
       "      <td>MUST WATCH MOVIES OF 2017 ITI Chennai memes MA...</td>\n",
       "      <td>MUST WATCH MOVIES OF 2017 ITI Chennai memes MA...</td>\n",
       "      <td>neutral</td>\n",
       "      <td>must watch movies iti chennai memes maanagaram...</td>\n",
       "    </tr>\n",
       "    <tr>\n",
       "      <th>6989</th>\n",
       "      <td>image_6990.png</td>\n",
       "      <td>LESS MORE TALKING PLANNING SODA JUNK FOOD COMP...</td>\n",
       "      <td>LESS MORE TALKING PLANNING SODA JUNK FOOD COMP...</td>\n",
       "      <td>positive</td>\n",
       "      <td>less talking planning soda junk food complaini...</td>\n",
       "    </tr>\n",
       "    <tr>\n",
       "      <th>6990</th>\n",
       "      <td>image_6991.jpg</td>\n",
       "      <td>When I VERY have time is a fantasy No one has ...</td>\n",
       "      <td>When I have time is a fantasy. no one has time...</td>\n",
       "      <td>positive</td>\n",
       "      <td>time fantasy one time unless make time arhtist...</td>\n",
       "    </tr>\n",
       "    <tr>\n",
       "      <th>6991</th>\n",
       "      <td>image_6992.jpg</td>\n",
       "      <td>The starting point for every good idea is \"Wha...</td>\n",
       "      <td>The starting point for every good idea is \"Wha...</td>\n",
       "      <td>positive</td>\n",
       "      <td>starting point every good idea arhtistic licen...</td>\n",
       "    </tr>\n",
       "  </tbody>\n",
       "</table>\n",
       "<p>6987 rows × 5 columns</p>\n",
       "</div>"
      ],
      "text/plain": [
       "          image_name                                           text_ocr  \\\n",
       "0        image_1.jpg  LOOK THERE MY FRIEND LIGHTYEAR NOW ALL SOHALIK...   \n",
       "1       image_2.jpeg  The best of #10 YearChallenge! Completed in le...   \n",
       "2        image_3.JPG  Sam Thorne @Strippin ( Follow Follow Saw every...   \n",
       "3        image_4.png              10 Year Challenge - Sweet Dee Edition   \n",
       "4        image_5.png  10 YEAR CHALLENGE WITH NO FILTER 47 Hilarious ...   \n",
       "...              ...                                                ...   \n",
       "6987  image_6988.jpg  Tuesday is Mardi Gras Wednesday is Valentine's...   \n",
       "6988  image_6989.jpg  MUST WATCH MOVIES OF 2017 ITI Chennai memes MA...   \n",
       "6989  image_6990.png  LESS MORE TALKING PLANNING SODA JUNK FOOD COMP...   \n",
       "6990  image_6991.jpg  When I VERY have time is a fantasy No one has ...   \n",
       "6991  image_6992.jpg  The starting point for every good idea is \"Wha...   \n",
       "\n",
       "                                         text_corrected overall_sentiment  \\\n",
       "0     LOOK THERE MY FRIEND LIGHTYEAR NOW ALL SOHALIK...          positive   \n",
       "1     The best of #10 YearChallenge! Completed in le...          positive   \n",
       "2     Sam Thorne @Strippin ( Follow Follow Saw every...          positive   \n",
       "3                 10 Year Challenge - Sweet Dee Edition          positive   \n",
       "4     10 YEAR CHALLENGE WITH NO FILTER 47 Hilarious ...           neutral   \n",
       "...                                                 ...               ...   \n",
       "6987  Tuesday is Mardi Gras Wednesday is Valentine's...           neutral   \n",
       "6988  MUST WATCH MOVIES OF 2017 ITI Chennai memes MA...           neutral   \n",
       "6989  LESS MORE TALKING PLANNING SODA JUNK FOOD COMP...          positive   \n",
       "6990  When I have time is a fantasy. no one has time...          positive   \n",
       "6991  The starting point for every good idea is \"Wha...          positive   \n",
       "\n",
       "                                                cleaned  \n",
       "0     look friend lightyear sohalikut trend play yea...  \n",
       "1     best yearchallenge completed less years kudus ...  \n",
       "2     sam thorne strippin follow follow saw everyone...  \n",
       "3                      year challenge sweet dee edition  \n",
       "4     year challenge filter hilarious year challenge...  \n",
       "...                                                 ...  \n",
       "6987  tuesday mardi gras wednesday valentine friday ...  \n",
       "6988  must watch movies iti chennai memes maanagaram...  \n",
       "6989  less talking planning soda junk food complaini...  \n",
       "6990  time fantasy one time unless make time arhtist...  \n",
       "6991  starting point every good idea arhtistic licen...  \n",
       "\n",
       "[6987 rows x 5 columns]"
      ]
     },
     "execution_count": 48,
     "metadata": {},
     "output_type": "execute_result"
    }
   ],
   "source": [
    "main_data"
   ]
  },
  {
   "cell_type": "code",
   "execution_count": 49,
   "id": "d5b16364",
   "metadata": {},
   "outputs": [
    {
     "data": {
      "text/plain": [
       "array(['positive', 'neutral', 'negative'], dtype=object)"
      ]
     },
     "execution_count": 49,
     "metadata": {},
     "output_type": "execute_result"
    }
   ],
   "source": [
    "main_data['overall_sentiment'].unique()"
   ]
  },
  {
   "cell_type": "code",
   "execution_count": 50,
   "id": "f684404f",
   "metadata": {},
   "outputs": [],
   "source": [
    "import nlpaug\n",
    "import nlpaug.augmenter.word as nlp\n",
    "aug = nlp.SynonymAug(aug_src='wordnet',aug_max=2)\n",
    "aug_dict={}\n",
    "idx=1\n",
    "for i in main_data['cleaned']:\n",
    "    sen=aug.augment(i,n=2)\n",
    "    aug_dict[idx]=sen\n",
    "    idx+=1"
   ]
  },
  {
   "cell_type": "code",
   "execution_count": 105,
   "id": "fee17f0c",
   "metadata": {},
   "outputs": [
    {
     "data": {
      "text/html": [
       "<div>\n",
       "<style scoped>\n",
       "    .dataframe tbody tr th:only-of-type {\n",
       "        vertical-align: middle;\n",
       "    }\n",
       "\n",
       "    .dataframe tbody tr th {\n",
       "        vertical-align: top;\n",
       "    }\n",
       "\n",
       "    .dataframe thead th {\n",
       "        text-align: right;\n",
       "    }\n",
       "</style>\n",
       "<table border=\"1\" class=\"dataframe\">\n",
       "  <thead>\n",
       "    <tr style=\"text-align: right;\">\n",
       "      <th></th>\n",
       "      <th>image_name</th>\n",
       "      <th>text_ocr</th>\n",
       "      <th>text_corrected</th>\n",
       "      <th>overall_sentiment</th>\n",
       "      <th>cleaned</th>\n",
       "    </tr>\n",
       "  </thead>\n",
       "  <tbody>\n",
       "    <tr>\n",
       "      <th>0</th>\n",
       "      <td>image_1.jpg</td>\n",
       "      <td>LOOK THERE MY FRIEND LIGHTYEAR NOW ALL SOHALIK...</td>\n",
       "      <td>LOOK THERE MY FRIEND LIGHTYEAR NOW ALL SOHALIK...</td>\n",
       "      <td>very_positive</td>\n",
       "      <td>look friend lightyear sohalikut trend play yea...</td>\n",
       "    </tr>\n",
       "    <tr>\n",
       "      <th>1</th>\n",
       "      <td>image_2.jpeg</td>\n",
       "      <td>The best of #10 YearChallenge! Completed in le...</td>\n",
       "      <td>The best of #10 YearChallenge! Completed in le...</td>\n",
       "      <td>very_positive</td>\n",
       "      <td>best yearchallenge completed less years kudus ...</td>\n",
       "    </tr>\n",
       "    <tr>\n",
       "      <th>2</th>\n",
       "      <td>image_3.JPG</td>\n",
       "      <td>Sam Thorne @Strippin ( Follow Follow Saw every...</td>\n",
       "      <td>Sam Thorne @Strippin ( Follow Follow Saw every...</td>\n",
       "      <td>positive</td>\n",
       "      <td>sam thorne strippin follow follow saw everyone...</td>\n",
       "    </tr>\n",
       "    <tr>\n",
       "      <th>3</th>\n",
       "      <td>image_4.png</td>\n",
       "      <td>10 Year Challenge - Sweet Dee Edition</td>\n",
       "      <td>10 Year Challenge - Sweet Dee Edition</td>\n",
       "      <td>positive</td>\n",
       "      <td>year challenge sweet dee edition</td>\n",
       "    </tr>\n",
       "    <tr>\n",
       "      <th>4</th>\n",
       "      <td>image_5.png</td>\n",
       "      <td>10 YEAR CHALLENGE WITH NO FILTER 47 Hilarious ...</td>\n",
       "      <td>10 YEAR CHALLENGE WITH NO FILTER 47 Hilarious ...</td>\n",
       "      <td>neutral</td>\n",
       "      <td>year challenge filter hilarious year challenge...</td>\n",
       "    </tr>\n",
       "    <tr>\n",
       "      <th>...</th>\n",
       "      <td>...</td>\n",
       "      <td>...</td>\n",
       "      <td>...</td>\n",
       "      <td>...</td>\n",
       "      <td>...</td>\n",
       "    </tr>\n",
       "    <tr>\n",
       "      <th>346</th>\n",
       "      <td>image_347.png</td>\n",
       "      <td>Marvel Memes TELLS EVERYONE HE CAN SEE EVERYTH...</td>\n",
       "      <td>Marvel Memes TELLS EVERYONE HE CAN SEE EVERYTH...</td>\n",
       "      <td>very_positive</td>\n",
       "      <td>marvel memes tells everyone see everything kno...</td>\n",
       "    </tr>\n",
       "    <tr>\n",
       "      <th>347</th>\n",
       "      <td>image_348.jpg</td>\n",
       "      <td>Doctor Strange: don't worry guys Doctor Strang...</td>\n",
       "      <td>Doctor Strange: don't worry guys Doctor Strang...</td>\n",
       "      <td>negative</td>\n",
       "      <td>doctor strange worry guys doctor strange plan ...</td>\n",
       "    </tr>\n",
       "    <tr>\n",
       "      <th>348</th>\n",
       "      <td>image_349.png</td>\n",
       "      <td>it's literally that meme</td>\n",
       "      <td>it's literally that meme</td>\n",
       "      <td>neutral</td>\n",
       "      <td>literally meme</td>\n",
       "    </tr>\n",
       "    <tr>\n",
       "      <th>349</th>\n",
       "      <td>image_350.jpg</td>\n",
       "      <td>I KNOW IT'S SOAP BUT IT LOOKS DELICIOUS</td>\n",
       "      <td>I KNOW IT'S SOAP BUT IT LOOKS DELICIOUS</td>\n",
       "      <td>neutral</td>\n",
       "      <td>know soap looks delicious</td>\n",
       "    </tr>\n",
       "    <tr>\n",
       "      <th>350</th>\n",
       "      <td>image_351.png</td>\n",
       "      <td>THE CATS HAVE BEEN FED DONT LISTEN TO THEIR BU...</td>\n",
       "      <td>THE CATS HAVE BEEN FED DONT LISTEN TO THEIR BU...</td>\n",
       "      <td>very_negative</td>\n",
       "      <td>cats fed dont listen bullshit searched icanhas...</td>\n",
       "    </tr>\n",
       "  </tbody>\n",
       "</table>\n",
       "<p>350 rows × 5 columns</p>\n",
       "</div>"
      ],
      "text/plain": [
       "        image_name                                           text_ocr  \\\n",
       "0      image_1.jpg  LOOK THERE MY FRIEND LIGHTYEAR NOW ALL SOHALIK...   \n",
       "1     image_2.jpeg  The best of #10 YearChallenge! Completed in le...   \n",
       "2      image_3.JPG  Sam Thorne @Strippin ( Follow Follow Saw every...   \n",
       "3      image_4.png              10 Year Challenge - Sweet Dee Edition   \n",
       "4      image_5.png  10 YEAR CHALLENGE WITH NO FILTER 47 Hilarious ...   \n",
       "..             ...                                                ...   \n",
       "346  image_347.png  Marvel Memes TELLS EVERYONE HE CAN SEE EVERYTH...   \n",
       "347  image_348.jpg  Doctor Strange: don't worry guys Doctor Strang...   \n",
       "348  image_349.png                           it's literally that meme   \n",
       "349  image_350.jpg            I KNOW IT'S SOAP BUT IT LOOKS DELICIOUS   \n",
       "350  image_351.png  THE CATS HAVE BEEN FED DONT LISTEN TO THEIR BU...   \n",
       "\n",
       "                                        text_corrected overall_sentiment  \\\n",
       "0    LOOK THERE MY FRIEND LIGHTYEAR NOW ALL SOHALIK...     very_positive   \n",
       "1    The best of #10 YearChallenge! Completed in le...     very_positive   \n",
       "2    Sam Thorne @Strippin ( Follow Follow Saw every...          positive   \n",
       "3                10 Year Challenge - Sweet Dee Edition          positive   \n",
       "4    10 YEAR CHALLENGE WITH NO FILTER 47 Hilarious ...           neutral   \n",
       "..                                                 ...               ...   \n",
       "346  Marvel Memes TELLS EVERYONE HE CAN SEE EVERYTH...     very_positive   \n",
       "347  Doctor Strange: don't worry guys Doctor Strang...          negative   \n",
       "348                           it's literally that meme           neutral   \n",
       "349            I KNOW IT'S SOAP BUT IT LOOKS DELICIOUS           neutral   \n",
       "350  THE CATS HAVE BEEN FED DONT LISTEN TO THEIR BU...     very_negative   \n",
       "\n",
       "                                               cleaned  \n",
       "0    look friend lightyear sohalikut trend play yea...  \n",
       "1    best yearchallenge completed less years kudus ...  \n",
       "2    sam thorne strippin follow follow saw everyone...  \n",
       "3                     year challenge sweet dee edition  \n",
       "4    year challenge filter hilarious year challenge...  \n",
       "..                                                 ...  \n",
       "346  marvel memes tells everyone see everything kno...  \n",
       "347  doctor strange worry guys doctor strange plan ...  \n",
       "348                                     literally meme  \n",
       "349                          know soap looks delicious  \n",
       "350  cats fed dont listen bullshit searched icanhas...  \n",
       "\n",
       "[350 rows x 5 columns]"
      ]
     },
     "execution_count": 105,
     "metadata": {},
     "output_type": "execute_result"
    }
   ],
   "source": [
    "main_data.head(350)"
   ]
  },
  {
   "cell_type": "code",
   "execution_count": 51,
   "id": "4f16f93f",
   "metadata": {},
   "outputs": [],
   "source": [
    "negative_text=main_data.groupby('overall_sentiment').get_group('negative')\n"
   ]
  },
  {
   "cell_type": "code",
   "execution_count": 52,
   "id": "efa36de8",
   "metadata": {},
   "outputs": [
    {
     "data": {
      "text/html": [
       "<div>\n",
       "<style scoped>\n",
       "    .dataframe tbody tr th:only-of-type {\n",
       "        vertical-align: middle;\n",
       "    }\n",
       "\n",
       "    .dataframe tbody tr th {\n",
       "        vertical-align: top;\n",
       "    }\n",
       "\n",
       "    .dataframe thead th {\n",
       "        text-align: right;\n",
       "    }\n",
       "</style>\n",
       "<table border=\"1\" class=\"dataframe\">\n",
       "  <thead>\n",
       "    <tr style=\"text-align: right;\">\n",
       "      <th></th>\n",
       "      <th>image_name</th>\n",
       "      <th>text_ocr</th>\n",
       "      <th>text_corrected</th>\n",
       "      <th>overall_sentiment</th>\n",
       "      <th>cleaned</th>\n",
       "    </tr>\n",
       "  </thead>\n",
       "  <tbody>\n",
       "    <tr>\n",
       "      <th>5</th>\n",
       "      <td>image_6.jpg</td>\n",
       "      <td>1998: \"Don't get in car with strangers\" 2008: ...</td>\n",
       "      <td>1998: \"Don't get in car with strangers\" 2008: ...</td>\n",
       "      <td>negative</td>\n",
       "      <td>get car strangers meet people internet alone m...</td>\n",
       "    </tr>\n",
       "    <tr>\n",
       "      <th>6</th>\n",
       "      <td>image_7.png</td>\n",
       "      <td>10 years challenge is lit af Üs &amp; B erg 1945 1...</td>\n",
       "      <td>10 years challenge is lit af Üs &amp; B erg 1945 1...</td>\n",
       "      <td>negative</td>\n",
       "      <td>years challenge lit af us b erg wow transforma...</td>\n",
       "    </tr>\n",
       "    <tr>\n",
       "      <th>10</th>\n",
       "      <td>image_11.jpg</td>\n",
       "      <td>PROBABLY THE FIRST MAN TO DO 10 YEAR CHALLENGE...</td>\n",
       "      <td>PROBABLY THE FIRST MAN TO DO 10 YEAR CHALLENGE...</td>\n",
       "      <td>negative</td>\n",
       "      <td>probably first man year challenge chennai pasa...</td>\n",
       "    </tr>\n",
       "    <tr>\n",
       "      <th>14</th>\n",
       "      <td>image_15.jpg</td>\n",
       "      <td>Anti-vaxx kids when they see someone doing the...</td>\n",
       "      <td>Anti-vaxx kids when they see someone doing the...</td>\n",
       "      <td>negative</td>\n",
       "      <td>anti vaxx kids see someone year challenge</td>\n",
       "    </tr>\n",
       "    <tr>\n",
       "      <th>49</th>\n",
       "      <td>image_50.jpg</td>\n",
       "      <td>Hawkeye is important in Infinity War Is he tho...</td>\n",
       "      <td>Hawkeye is important in Infinity War Is he tho...</td>\n",
       "      <td>negative</td>\n",
       "      <td>hawkeye important infinity war though</td>\n",
       "    </tr>\n",
       "    <tr>\n",
       "      <th>...</th>\n",
       "      <td>...</td>\n",
       "      <td>...</td>\n",
       "      <td>...</td>\n",
       "      <td>...</td>\n",
       "      <td>...</td>\n",
       "    </tr>\n",
       "    <tr>\n",
       "      <th>6960</th>\n",
       "      <td>image_6961.jpg</td>\n",
       "      <td>THAT FACE YOUR FRIEND GIVES YOU WHEN YOUR CRUS...</td>\n",
       "      <td>THAT FACE YOUR FRIEND GIVES YOU WHEN YOUR CRUS...</td>\n",
       "      <td>negative</td>\n",
       "      <td>face friend gives crush walks room</td>\n",
       "    </tr>\n",
       "    <tr>\n",
       "      <th>6961</th>\n",
       "      <td>image_6962.jpg</td>\n",
       "      <td>NIGHTMARES Are made of this.</td>\n",
       "      <td>NIGHTMARES Are made of this.</td>\n",
       "      <td>negative</td>\n",
       "      <td>nightmares made</td>\n",
       "    </tr>\n",
       "    <tr>\n",
       "      <th>6965</th>\n",
       "      <td>image_6966.png</td>\n",
       "      <td>Baby Mr. Bean Funny Picture</td>\n",
       "      <td>Baby Mr. Bean Funny Picture</td>\n",
       "      <td>negative</td>\n",
       "      <td>baby mr bean funny picture</td>\n",
       "    </tr>\n",
       "    <tr>\n",
       "      <th>6971</th>\n",
       "      <td>image_6972.jpg</td>\n",
       "      <td>YOUR FACE MemeCenter.com WHEN THERES A SUBSTIT...</td>\n",
       "      <td>YOUR FACE MemeCenter.com WHEN THERES A SUBSTIT...</td>\n",
       "      <td>negative</td>\n",
       "      <td>face memecenter com theres substitute math class</td>\n",
       "    </tr>\n",
       "    <tr>\n",
       "      <th>6982</th>\n",
       "      <td>image_6983.jpg</td>\n",
       "      <td>Rider 999999 elle STILLS RRA 224 NOTHING! KNOW...</td>\n",
       "      <td>I STILL KNOW NOTHING! 2017</td>\n",
       "      <td>negative</td>\n",
       "      <td>still know nothing</td>\n",
       "    </tr>\n",
       "  </tbody>\n",
       "</table>\n",
       "<p>631 rows × 5 columns</p>\n",
       "</div>"
      ],
      "text/plain": [
       "          image_name                                           text_ocr  \\\n",
       "5        image_6.jpg  1998: \"Don't get in car with strangers\" 2008: ...   \n",
       "6        image_7.png  10 years challenge is lit af Üs & B erg 1945 1...   \n",
       "10      image_11.jpg  PROBABLY THE FIRST MAN TO DO 10 YEAR CHALLENGE...   \n",
       "14      image_15.jpg  Anti-vaxx kids when they see someone doing the...   \n",
       "49      image_50.jpg  Hawkeye is important in Infinity War Is he tho...   \n",
       "...              ...                                                ...   \n",
       "6960  image_6961.jpg  THAT FACE YOUR FRIEND GIVES YOU WHEN YOUR CRUS...   \n",
       "6961  image_6962.jpg                       NIGHTMARES Are made of this.   \n",
       "6965  image_6966.png                        Baby Mr. Bean Funny Picture   \n",
       "6971  image_6972.jpg  YOUR FACE MemeCenter.com WHEN THERES A SUBSTIT...   \n",
       "6982  image_6983.jpg  Rider 999999 elle STILLS RRA 224 NOTHING! KNOW...   \n",
       "\n",
       "                                         text_corrected overall_sentiment  \\\n",
       "5     1998: \"Don't get in car with strangers\" 2008: ...          negative   \n",
       "6     10 years challenge is lit af Üs & B erg 1945 1...          negative   \n",
       "10    PROBABLY THE FIRST MAN TO DO 10 YEAR CHALLENGE...          negative   \n",
       "14    Anti-vaxx kids when they see someone doing the...          negative   \n",
       "49    Hawkeye is important in Infinity War Is he tho...          negative   \n",
       "...                                                 ...               ...   \n",
       "6960  THAT FACE YOUR FRIEND GIVES YOU WHEN YOUR CRUS...          negative   \n",
       "6961                       NIGHTMARES Are made of this.          negative   \n",
       "6965                        Baby Mr. Bean Funny Picture          negative   \n",
       "6971  YOUR FACE MemeCenter.com WHEN THERES A SUBSTIT...          negative   \n",
       "6982                         I STILL KNOW NOTHING! 2017          negative   \n",
       "\n",
       "                                                cleaned  \n",
       "5     get car strangers meet people internet alone m...  \n",
       "6     years challenge lit af us b erg wow transforma...  \n",
       "10    probably first man year challenge chennai pasa...  \n",
       "14            anti vaxx kids see someone year challenge  \n",
       "49                hawkeye important infinity war though  \n",
       "...                                                 ...  \n",
       "6960                 face friend gives crush walks room  \n",
       "6961                                    nightmares made  \n",
       "6965                         baby mr bean funny picture  \n",
       "6971   face memecenter com theres substitute math class  \n",
       "6982                                 still know nothing  \n",
       "\n",
       "[631 rows x 5 columns]"
      ]
     },
     "execution_count": 52,
     "metadata": {},
     "output_type": "execute_result"
    }
   ],
   "source": [
    "negative_text\n"
   ]
  },
  {
   "cell_type": "code",
   "execution_count": 53,
   "id": "511a24db",
   "metadata": {},
   "outputs": [],
   "source": [
    "aug = nlp.SynonymAug(aug_src='wordnet',aug_max=2)\n",
    "neg_dict={}\n",
    "idx=1\n",
    "for i in negative_text['cleaned']:\n",
    "    sen=aug.augment(i,n=1)\n",
    "    neg_dict[idx]=sen\n",
    "    idx+=1"
   ]
  },
  {
   "cell_type": "code",
   "execution_count": 54,
   "id": "e150604e",
   "metadata": {},
   "outputs": [],
   "source": [
    "concatlist_text=[negative_text,main_data]\n",
    "finalconcat_text=pd.concat(concatlist_text)"
   ]
  },
  {
   "cell_type": "code",
   "execution_count": 55,
   "id": "7e2843bd",
   "metadata": {},
   "outputs": [
    {
     "data": {
      "text/plain": [
       "positive    4156\n",
       "neutral     2200\n",
       "negative    1262\n",
       "Name: overall_sentiment, dtype: int64"
      ]
     },
     "execution_count": 55,
     "metadata": {},
     "output_type": "execute_result"
    }
   ],
   "source": [
    "finalconcat_text['overall_sentiment'].value_counts()"
   ]
  },
  {
   "cell_type": "code",
   "execution_count": 56,
   "id": "c04dfd72",
   "metadata": {},
   "outputs": [],
   "source": [
    "from sklearn.utils import shuffle\n",
    "finalconcat_text = shuffle(finalconcat_text,random_state=100)"
   ]
  },
  {
   "cell_type": "code",
   "execution_count": 57,
   "id": "1db1e5b5",
   "metadata": {},
   "outputs": [],
   "source": [
    "#exper\n",
    "X=finalconcat_text['cleaned']\n",
    "\n",
    "y=finalconcat_text['overall_sentiment']\n",
    "le = LabelEncoder()\n",
    "y = le.fit_transform(y)\n",
    "X_train, X_test, y_train, y_test = train_test_split(X, y, test_size=0.3,random_state=44)\n"
   ]
  },
  {
   "cell_type": "code",
   "execution_count": 58,
   "id": "96be0466",
   "metadata": {},
   "outputs": [],
   "source": [
    "#exp\n",
    "vectorizer = CountVectorizer()\n",
    "v1 = vectorizer.fit_transform(X_train)\n",
    "v2 = vectorizer.transform(X_test)\n",
    "#direct model iske baad"
   ]
  },
  {
   "cell_type": "code",
   "execution_count": 68,
   "id": "79297d15",
   "metadata": {},
   "outputs": [],
   "source": [
    "filename='countvector.pkl'\n",
    "pickle.dump(vectorizer, open(filename, 'wb'))"
   ]
  },
  {
   "cell_type": "markdown",
   "id": "998647dd",
   "metadata": {},
   "source": [
    "MODELS"
   ]
  },
  {
   "cell_type": "code",
   "execution_count": 59,
   "id": "6c64ee95",
   "metadata": {},
   "outputs": [
    {
     "name": "stdout",
     "output_type": "stream",
     "text": [
      "Accuracy: 0.5393700787401575\n",
      "F1 Score:  0.5303582604945697\n",
      "              precision    recall  f1-score   support\n",
      "\n",
      "           0       0.57      0.73      0.64       373\n",
      "           1       0.36      0.32      0.34       681\n",
      "           2       0.62      0.60      0.61      1232\n",
      "\n",
      "    accuracy                           0.54      2286\n",
      "   macro avg       0.52      0.55      0.53      2286\n",
      "weighted avg       0.53      0.54      0.53      2286\n",
      "\n"
     ]
    }
   ],
   "source": [
    "clf = DecisionTreeClassifier(criterion='gini',splitter='best',random_state=46,max_features=6)\n",
    "clf.fit(v1,y_train)\n",
    "y_pred=clf.predict(v2)\n",
    "print('Accuracy:', accuracy_score(y_test, y_pred))\n",
    "print(\"F1 Score: \",f1_score(y_test, y_pred,average='macro')) \n",
    "print(classification_report(y_test, y_pred))"
   ]
  },
  {
   "cell_type": "code",
   "execution_count": 60,
   "id": "4fabf206",
   "metadata": {},
   "outputs": [
    {
     "name": "stdout",
     "output_type": "stream",
     "text": [
      "Confusion Matrix : \n",
      "[[272  40  61]\n",
      " [ 70 221 390]\n",
      " [135 357 740]]\n"
     ]
    }
   ],
   "source": [
    "print('Confusion Matrix : \\n' + str(confusion_matrix(y_test,y_pred)))"
   ]
  },
  {
   "cell_type": "code",
   "execution_count": 61,
   "id": "7a64682f",
   "metadata": {},
   "outputs": [
    {
     "name": "stdout",
     "output_type": "stream",
     "text": [
      "              precision    recall  f1-score   support\n",
      "\n",
      "           0       0.70      0.94      0.80       277\n",
      "           1       0.05      0.34      0.08        91\n",
      "           2       0.95      0.61      0.74      1918\n",
      "\n",
      "    accuracy                           0.64      2286\n",
      "   macro avg       0.56      0.63      0.54      2286\n",
      "weighted avg       0.88      0.64      0.72      2286\n",
      "\n",
      "F1 Score:  0.5414792883186667\n"
     ]
    }
   ],
   "source": [
    "knn=KNeighborsClassifier(n_neighbors=13,weights='distance',leaf_size=9,algorithm='auto')\n",
    "knn.fit(v1,y_train)\n",
    "y_pred_knn=knn.predict(v2)\n",
    "accuracy_score(y_pred_knn,y_test)\n",
    "print(classification_report(y_pred_knn,y_test))\n",
    "print(\"F1 Score: \",f1_score(y_test, y_pred_knn,average='macro'))"
   ]
  },
  {
   "cell_type": "code",
   "execution_count": 62,
   "id": "ba3ff0cd",
   "metadata": {},
   "outputs": [
    {
     "name": "stdout",
     "output_type": "stream",
     "text": [
      "Confusion Matrix : \n",
      "[[ 260   12  101]\n",
      " [   5   31  645]\n",
      " [  12   48 1172]]\n"
     ]
    }
   ],
   "source": [
    "print('Confusion Matrix : \\n' + str(confusion_matrix(y_test,y_pred_knn)))"
   ]
  },
  {
   "cell_type": "code",
   "execution_count": 63,
   "id": "c8b0deb4",
   "metadata": {},
   "outputs": [
    {
     "name": "stdout",
     "output_type": "stream",
     "text": [
      "F1 Score:  0.508411029819048\n",
      "              precision    recall  f1-score   support\n",
      "\n",
      "           0       0.58      0.68      0.62       320\n",
      "           1       0.17      0.35      0.23       332\n",
      "           2       0.78      0.59      0.67      1634\n",
      "\n",
      "    accuracy                           0.57      2286\n",
      "   macro avg       0.51      0.54      0.51      2286\n",
      "weighted avg       0.67      0.57      0.60      2286\n",
      "\n",
      "Confusion Matrix : \n",
      "[[216  21 136]\n",
      " [ 35 115 531]\n",
      " [ 69 196 967]]\n"
     ]
    }
   ],
   "source": [
    "from sklearn.linear_model import RidgeClassifier\n",
    "rc = RidgeClassifier(solver='auto',positive=True,random_state=42,max_iter=5000)\n",
    "rc.fit(v1, y_train)\n",
    "pred6=rc.predict(v2)\n",
    "print(\"F1 Score: \",f1_score(y_test, pred6,average='macro'))\n",
    "print(classification_report(pred6,y_test))\n",
    "print('Confusion Matrix : \\n' + str(confusion_matrix(y_test,pred6)))"
   ]
  },
  {
   "cell_type": "code",
   "execution_count": 64,
   "id": "ca44ed74",
   "metadata": {},
   "outputs": [
    {
     "name": "stdout",
     "output_type": "stream",
     "text": [
      "F1 Score:  0.5447527631542585\n",
      "Confusion Matrix : \n",
      "[[ 260   21   92]\n",
      " [  20   86  575]\n",
      " [  37  170 1025]]\n",
      "              precision    recall  f1-score   support\n",
      "\n",
      "           0       0.70      0.82      0.75       317\n",
      "           1       0.13      0.31      0.18       277\n",
      "           2       0.83      0.61      0.70      1692\n",
      "\n",
      "    accuracy                           0.60      2286\n",
      "   macro avg       0.55      0.58      0.54      2286\n",
      "weighted avg       0.73      0.60      0.65      2286\n",
      "\n"
     ]
    }
   ],
   "source": [
    "from sklearn.ensemble import RandomForestClassifier\n",
    "rf = RandomForestClassifier(random_state=47)\n",
    "rf.fit(v1, y_train)\n",
    "pred9=rf.predict(v2)\n",
    "print(\"F1 Score: \",f1_score(y_test, pred9,average='macro'))\n",
    "print('Confusion Matrix : \\n' + str(confusion_matrix(y_test,pred9)))\n",
    "print(classification_report(pred9,y_test))"
   ]
  },
  {
   "cell_type": "code",
   "execution_count": 65,
   "id": "ba8d5d00",
   "metadata": {},
   "outputs": [
    {
     "name": "stdout",
     "output_type": "stream",
     "text": [
      "Accuracy: 0.5678040244969379\n",
      "F1 Score:  0.508411029819048\n",
      "              precision    recall  f1-score   support\n",
      "\n",
      "           0       0.68      0.58      0.62       373\n",
      "           1       0.35      0.17      0.23       681\n",
      "           2       0.59      0.78      0.67      1232\n",
      "\n",
      "    accuracy                           0.57      2286\n",
      "   macro avg       0.54      0.51      0.51      2286\n",
      "weighted avg       0.53      0.57      0.53      2286\n",
      "\n",
      "Confusion Matrix : \n",
      "[[216  21 136]\n",
      " [ 35 115 531]\n",
      " [ 69 196 967]]\n"
     ]
    }
   ],
   "source": [
    "from sklearn.linear_model import TheilSenRegressor\n",
    "\n",
    "reg = TheilSenRegressor(random_state=0).fit(v1.toarray(), y_train)\n",
    "pred6=rc.predict(v2)\n",
    "print('Accuracy:', accuracy_score(y_test, pred6))\n",
    "print(\"F1 Score: \",f1_score(y_test, pred6,average='macro'))\n",
    "print(classification_report(y_test,pred6))\n",
    "print('Confusion Matrix : \\n' + str(confusion_matrix(y_test,pred6)))"
   ]
  },
  {
   "cell_type": "code",
   "execution_count": 67,
   "id": "45656251",
   "metadata": {},
   "outputs": [
    {
     "name": "stdout",
     "output_type": "stream",
     "text": [
      "Accuracy: 0.6041119860017498\n",
      "F1 Score:  0.5573244389559057\n"
     ]
    }
   ],
   "source": [
    "from sklearn.ensemble import VotingClassifier\n",
    "voting = VotingClassifier(\n",
    "estimators=[('rf',rf),(\"knn\",knn),('rc',rc),('dt',clf)],\n",
    "voting='hard')\n",
    "voting.fit(v1,y_train)\n",
    "pred_final=voting.predict(v2)\n",
    "print('Accuracy:', accuracy_score(y_test, pred_final))\n",
    "print(\"F1 Score: \",f1_score(y_test, pred_final,average='macro'))"
   ]
  },
  {
   "cell_type": "code",
   "execution_count": 87,
   "id": "e5a51e28",
   "metadata": {},
   "outputs": [],
   "source": [
    "import pickle\n",
    "modelpkl1 = \"Pickle_knn_Model.pkl\"  \n",
    "with open(modelpkl1, 'wb') as file:  \n",
    "    pickle.dump(knn, file)"
   ]
  },
  {
   "cell_type": "code",
   "execution_count": 88,
   "id": "5154878c",
   "metadata": {},
   "outputs": [],
   "source": [
    "import pickle\n",
    "modelpkl2 = \"random_forest_Model.pkl\"  \n",
    "with open(modelpkl2, 'wb') as file:  \n",
    "    pickle.dump(rf, file)"
   ]
  },
  {
   "cell_type": "code",
   "execution_count": 89,
   "id": "3fcf72e4",
   "metadata": {},
   "outputs": [],
   "source": [
    "import pickle\n",
    "modelpkl3 = \"dt.pkl\"  \n",
    "with open(modelpkl3, 'wb') as file:  \n",
    "    pickle.dump(clf, file)"
   ]
  },
  {
   "cell_type": "code",
   "execution_count": null,
   "id": "781a3875",
   "metadata": {},
   "outputs": [],
   "source": [
    "\n"
   ]
  }
 ],
 "metadata": {
  "kernelspec": {
   "display_name": "Python 3 (ipykernel)",
   "language": "python",
   "name": "python3"
  },
  "language_info": {
   "codemirror_mode": {
    "name": "ipython",
    "version": 3
   },
   "file_extension": ".py",
   "mimetype": "text/x-python",
   "name": "python",
   "nbconvert_exporter": "python",
   "pygments_lexer": "ipython3",
   "version": "3.9.12"
  }
 },
 "nbformat": 4,
 "nbformat_minor": 5
}
